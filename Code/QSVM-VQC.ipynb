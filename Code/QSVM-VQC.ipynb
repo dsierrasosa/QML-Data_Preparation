{
 "cells": [
  {
   "cell_type": "code",
   "execution_count": 1,
   "id": "starting-radar",
   "metadata": {},
   "outputs": [],
   "source": [
    "from qiskit import IBMQ\n",
    "import sklearn.datasets as skd\n",
    "import pandas as pd\n",
    "import matplotlib.pyplot as plt\n",
    "import numpy as np\n",
    "from sklearn.model_selection import train_test_split\n",
    "from qiskit.aqua.components.optimizers import SPSA\n",
    "from qiskit.circuit.library import ZZFeatureMap, TwoLocal\n",
    "from qiskit.aqua.algorithms import QSVM, VQC\n",
    "from qiskit.providers.ibmq import least_busy\n",
    "from qiskit import BasicAer\n",
    "from qiskit.aqua import QuantumInstance\n",
    "from sklearn.metrics import classification_report\n",
    "from sklearn.preprocessing import normalize\n",
    "from qiskit import QuantumCircuit, QuantumRegister, ClassicalRegister, execute\n",
    "from sklearn.datasets import make_blobs\n",
    "import math"
   ]
  },
  {
   "cell_type": "code",
   "execution_count": 2,
   "id": "conceptual-ladder",
   "metadata": {},
   "outputs": [],
   "source": [
    "# IBMQ.load_account()"
   ]
  },
  {
   "cell_type": "code",
   "execution_count": 3,
   "id": "better-array",
   "metadata": {},
   "outputs": [],
   "source": [
    "# provider = IBMQ.get_provider(hub='ibm-q-research')\n",
    "# provider.backends()"
   ]
  },
  {
   "cell_type": "code",
   "execution_count": 4,
   "id": "driving-hughes",
   "metadata": {},
   "outputs": [],
   "source": [
    "X,y = make_blobs(n_samples=150, centers=2, n_features=8, random_state=42)"
   ]
  },
  {
   "cell_type": "code",
   "execution_count": 5,
   "id": "expanded-waters",
   "metadata": {},
   "outputs": [
    {
     "data": {
      "image/png": "[encoded data removed]",
      "text/plain": [
       "<Figure size 432x288 with 1 Axes>"
      ]
     },
     "metadata": {
      "needs_background": "light"
     },
     "output_type": "display_data"
    }
   ],
   "source": [
    "# Data Scatter plot\n",
    "plt.figure()\n",
    "plt.scatter(X[:, 0][y==0], X[:, 1][y==0], c='r', marker='^', edgecolors='k', label=\"train 0\")\n",
    "plt.scatter(X[:, 0][y==1], X[:, 1][y==1], c='b', marker='^', edgecolors='k', label=\"train 1\")\n",
    "plt.legend()\n",
    "plt.show()"
   ]
  },
  {
   "cell_type": "code",
   "execution_count": 6,
   "id": "victorian-johnston",
   "metadata": {},
   "outputs": [],
   "source": [
    "sample_train, sample_test, label_train, label_test = train_test_split(X, y, test_size=0.2,  shuffle=True, random_state=42)"
   ]
  },
  {
   "cell_type": "markdown",
   "id": "differential-particular",
   "metadata": {},
   "source": [
    "# Quantum SVM - Qiskit"
   ]
  },
  {
   "cell_type": "code",
   "execution_count": 7,
   "id": "plastic-greek",
   "metadata": {},
   "outputs": [],
   "source": [
    "class_labels = [r'A', r'B']#[r'A', r'B']\n",
    "training_dataset = {key : np.array(sample_train[label_train == k, :])[:] for k, key in enumerate(class_labels)}\n",
    "test_dataset = {key : np.array(sample_test[label_test == k, :])[:] for k, key in enumerate(class_labels)}"
   ]
  },
  {
   "cell_type": "code",
   "execution_count": 8,
   "id": "revised-ebony",
   "metadata": {},
   "outputs": [],
   "source": [
    "random_seed = 42\n",
    "feature_dim = 8"
   ]
  },
  {
   "cell_type": "code",
   "execution_count": 9,
   "id": "exempt-arrest",
   "metadata": {},
   "outputs": [],
   "source": [
    "# Generate the feature map\n",
    "feature_map = ZZFeatureMap(feature_dimension=feature_dim, reps=25)"
   ]
  },
  {
   "cell_type": "code",
   "execution_count": 10,
   "id": "literary-telling",
   "metadata": {},
   "outputs": [],
   "source": [
    "backend =  BasicAer.get_backend('statevector_simulator')#'statevector_simulator''qasm_simulator'\n",
    "quantum_instance = QuantumInstance(backend, seed_simulator=random_seed, seed_transpiler=random_seed)"
   ]
  },
  {
   "cell_type": "code",
   "execution_count": 11,
   "id": "suffering-patio",
   "metadata": {},
   "outputs": [],
   "source": [
    "qsvm = QSVM(feature_map = feature_map, training_dataset=training_dataset, test_dataset=test_dataset)"
   ]
  },
  {
   "cell_type": "code",
   "execution_count": 12,
   "id": "after-divorce",
   "metadata": {},
   "outputs": [
    {
     "name": "stdout",
     "output_type": "stream",
     "text": [
      "              precision    recall  f1-score   support\n",
      "\n",
      "           0       0.53      0.57      0.55        14\n",
      "           1       0.60      0.56      0.58        16\n",
      "\n",
      "    accuracy                           0.57        30\n",
      "   macro avg       0.57      0.57      0.57        30\n",
      "weighted avg       0.57      0.57      0.57        30\n",
      "\n"
     ]
    }
   ],
   "source": [
    "result = qsvm.run(quantum_instance)\n",
    "# print(\"testing success ratio: \", result['testing_accuracy'])\n",
    "print(classification_report(label_test , qsvm.predict(sample_test , quantum_instance)))"
   ]
  },
  {
   "cell_type": "markdown",
   "id": "intense-bouquet",
   "metadata": {},
   "source": [
    "# VQC - Qiskit"
   ]
  },
  {
   "cell_type": "code",
   "execution_count": 13,
   "id": "surprised-shopper",
   "metadata": {},
   "outputs": [],
   "source": [
    "optimizer = SPSA(maxiter=40, c0=4.0, skip_calibration=True)\n",
    "var_form = TwoLocal(feature_dim, ['ry', 'rz'], 'cz', reps=7)"
   ]
  },
  {
   "cell_type": "code",
   "execution_count": 14,
   "id": "clinical-tension",
   "metadata": {},
   "outputs": [],
   "source": [
    "vqc= VQC(optimizer = optimizer,feature_map = feature_map,var_form = var_form, training_dataset=training_dataset, test_dataset=test_dataset,)# Variational "
   ]
  },
  {
   "cell_type": "code",
   "execution_count": 15,
   "id": "guided-sauce",
   "metadata": {},
   "outputs": [],
   "source": [
    "result = vqc.run(quantum_instance)\n",
    "# print(f'Testing success ratio: {result[\"testing_accuracy\"]}')"
   ]
  },
  {
   "cell_type": "code",
   "execution_count": 16,
   "id": "abstract-positive",
   "metadata": {},
   "outputs": [
    {
     "name": "stdout",
     "output_type": "stream",
     "text": [
      "              precision    recall  f1-score   support\n",
      "\n",
      "           0       0.47      0.64      0.55        14\n",
      "           1       0.55      0.38      0.44        16\n",
      "\n",
      "    accuracy                           0.50        30\n",
      "   macro avg       0.51      0.51      0.49        30\n",
      "weighted avg       0.51      0.50      0.49        30\n",
      "\n"
     ]
    }
   ],
   "source": [
    "print(classification_report(label_test , vqc.predict(sample_test , quantum_instance)[1]))"
   ]
  },
  {
   "cell_type": "markdown",
   "id": "baking-tobago",
   "metadata": {},
   "source": [
    "# Classic SVM"
   ]
  },
  {
   "cell_type": "code",
   "execution_count": 20,
   "id": "educated-allergy",
   "metadata": {},
   "outputs": [],
   "source": [
    "from sklearn import svm"
   ]
  },
  {
   "cell_type": "code",
   "execution_count": 21,
   "id": "coupled-chair",
   "metadata": {},
   "outputs": [
    {
     "data": {
      "text/plain": [
       "SVC()"
      ]
     },
     "execution_count": 21,
     "metadata": {},
     "output_type": "execute_result"
    }
   ],
   "source": [
    "clf = svm.SVC(gamma='scale')\n",
    "clf.fit(sample_train, label_train)"
   ]
  },
  {
   "cell_type": "code",
   "execution_count": 22,
   "id": "banner-pricing",
   "metadata": {},
   "outputs": [
    {
     "name": "stdout",
     "output_type": "stream",
     "text": [
      "              precision    recall  f1-score   support\n",
      "\n",
      "           0       1.00      1.00      1.00        14\n",
      "           1       1.00      1.00      1.00        16\n",
      "\n",
      "    accuracy                           1.00        30\n",
      "   macro avg       1.00      1.00      1.00        30\n",
      "weighted avg       1.00      1.00      1.00        30\n",
      "\n"
     ]
    }
   ],
   "source": [
    "print(classification_report(label_test, clf.predict(sample_test) , zero_division=0))"
   ]
  },
  {
   "cell_type": "markdown",
   "id": "labeled-yorkshire",
   "metadata": {},
   "source": [
    "# VQC - Amplitude Encoding Mottonen Method"
   ]
  },
  {
   "cell_type": "code",
   "execution_count": 23,
   "id": "proved-prophet",
   "metadata": {},
   "outputs": [],
   "source": [
    "def get_angles(x, n): # x is an array to be encoded, n is the number of qubits\n",
    "    numerator = 0 # numerator of expression for beta\n",
    "    denominator = 0 # denominator of expression for beta\n",
    "    beta = []\n",
    "    for k in range (1, n+1): # s is k in Mikko\n",
    "        for j in range(1, 1+2**(n-k)):\n",
    "            for l in range(1, 1+2**(k-1)):\n",
    "                #print(\"num: k, j, l: \", k, j, l)\n",
    "                numerator = numerator + (x[((((2*j-1)*(2**(k-1)))+l))-1]**2)\n",
    "            for l in range(1, 1+2**(k)):\n",
    "                #print(\"den: k, j, l: \", k, j, l)\n",
    "                denominator = denominator + (x[((((j-1)*(2**(k)))+l))-1]**2)\n",
    "            if k != n:\n",
    "                beta.append(np.arcsin(np.sqrt(numerator)/np.sqrt(denominator)))\n",
    "                beta.append(-1*np.arcsin(np.sqrt(numerator)/np.sqrt(denominator)))\n",
    "            else:\n",
    "                beta.append(2*np.arcsin(np.sqrt(numerator)/np.sqrt(denominator)))\n",
    "            numerator = 0\n",
    "            denominator = 0\n",
    "    return np.fliplr([beta])[0] # return the last entry in reverse order"
   ]
  },
  {
   "cell_type": "code",
   "execution_count": 24,
   "id": "metric-samuel",
   "metadata": {},
   "outputs": [],
   "source": [
    "def gray_code(n):\n",
    "    m = n-1 \n",
    "    xgates = []\n",
    "    for i in range(1, m):\n",
    "        xgates_temp = []\n",
    "        for k in range(1, 2+i):\n",
    "            xgates_temp.append(n-k-1)\n",
    "        xgates.append(xgates_temp)\n",
    "    \n",
    "    # stagger gates\n",
    "    num_stag = n-4 # for n=3->0, n=4->0, n=5->1, n=6->2\n",
    "    #num_gaps = ((2**n)-1)-len(xgates)\n",
    "    num_gap = len(xgates)-2\n",
    "    if n>4:\n",
    "        for j in range(0, num_stag):\n",
    "            if j==0:\n",
    "                for i in range(0, num_gap):\n",
    "                    xgates.insert(j+2+2*i, xgates[j]) #j=0\n",
    "            else: # j>0 -> 2nd+ staggerization  \n",
    "                for k in range(0, j):\n",
    "                    xgates.insert(j+4, xgates[j]) #j=1\n",
    "                    xgates.insert(j+5, xgates[j-1]) #j=0\n",
    "    \n",
    "    # repeat second half\n",
    "    s = len(xgates)-1\n",
    "    for i in range(0, s):\n",
    "        xgates.append(xgates[s-1-i])\n",
    "        \n",
    "    return xgates\n"
   ]
  },
  {
   "cell_type": "code",
   "execution_count": 25,
   "id": "excellent-teddy",
   "metadata": {},
   "outputs": [],
   "source": [
    "# create circuit\n",
    "def amp_enc_qc(A, qc, n):           \n",
    "    \n",
    "    # arbitrary transformation of the data (can remove but will need to change hyperparams)\n",
    "    A = 2*A\n",
    "\n",
    "    # always apply first rotation\n",
    "    qc.ry(A[0],0)\n",
    "                \n",
    "    #xgates = []\n",
    "    ang = 1\n",
    "    for i in range(1, n):\n",
    "        num_sub_blocks = 2**(i)\n",
    "        \n",
    "        # get xgates from gray code\n",
    "        xgate_idx = 0\n",
    "        xgates = []\n",
    "        if i<6:\n",
    "            xgates = gray_code(i+1)\n",
    "        elif i>=6:\n",
    "            if i==6:\n",
    "                xgates_6 = gray_code(6)\n",
    "            #xgates_6 = gray_code(6)\n",
    "            else: \n",
    "                xgates_6 = last_xgates\n",
    "            \n",
    "            for k in range(0, len(xgates_6)):\n",
    "                xgates_temp = []\n",
    "                for j in range(0, len(xgates_6[k])):\n",
    "                    temp = 1+xgates_6[k][j]\n",
    "                    xgates_temp.append(temp)\n",
    "                xgates.append(xgates_temp)\n",
    "            full_gates = [x for x in range(0, i)]\n",
    "            xgates.append(full_gates)    \n",
    "            s = len(xgates)-1\n",
    "            for k in range(0, s):\n",
    "                xgates.append(xgates[s-1-k])\n",
    "            last_xgates = xgates.copy()\n",
    "\n",
    "        # add initialization gates\n",
    "        if i>1:\n",
    "            for k in range(i-1):\n",
    "                qc.x(k)\n",
    "                        \n",
    "        for j in range(1, num_sub_blocks+1):\n",
    "            for r in range(1, 3):\n",
    "                if i==1: # if on 2 qubits\n",
    "                    qc.cx(0, 1)\n",
    "                elif i==2: # if on 3 qubits\n",
    "                    qc.ccx(0, 1, 2)\n",
    "                elif i==3: # if on 4 qubits\n",
    "                    qc.mcx([0, 1, 2], 3)\n",
    "                elif i==4:\n",
    "                    qc.mcx([0, 1, 2, 3], 4) \n",
    "                else:\n",
    "                    q_list = []\n",
    "                    for k in range(0, i):\n",
    "                        q_list.append(k)\n",
    "                    qc.mcx(q_list, i)\n",
    "   \n",
    "                qc.ry(A[ang], i)\n",
    "                ang += 1\n",
    "                \n",
    "            #qc.barrier()\n",
    "\n",
    "            # add x gates\n",
    "            if (j%2)==1: #if j is odd\n",
    "                qc.x(i-1)\n",
    "            else: #j is even\n",
    "                if ((i>1)&(xgate_idx<len(xgates))):\n",
    "                    for l in range(0, len(xgates[xgate_idx])):\n",
    "                        qc.x(xgates[xgate_idx][l])\n",
    "                        #print('l: ',l)\n",
    "                    xgate_idx += 1\n",
    "   \n",
    "    # account for the extra x-gate discrepancy in the state prep code for 2 qubits\n",
    "        for l in range(i):\n",
    "            if i>1:\n",
    "                qc.x(l)\n",
    "    if n==2:\n",
    "        qc.x(0)\n",
    "    \n",
    "    return qc"
   ]
  },
  {
   "cell_type": "markdown",
   "id": "celtic-infection",
   "metadata": {},
   "source": [
    "## Parameterized Circuit"
   ]
  },
  {
   "cell_type": "code",
   "execution_count": 26,
   "id": "innocent-championship",
   "metadata": {},
   "outputs": [],
   "source": [
    "# construct variational circuit\n",
    "def var_classifier(qc, var, n):\n",
    "    weights = var\n",
    "    j=1\n",
    "    for W in weights:\n",
    "        for i in range(n):\n",
    "            # parameterized layers\n",
    "            qc.u3(W[i, 0], W[i, 1], W[i, 2], i)\n",
    "        if n==2:\n",
    "            # alternating control nots\n",
    "            if (j%2)==1:\n",
    "                qc.cx(0, 1)\n",
    "            else:\n",
    "                qc.cx(1, 0)\n",
    "            j+=1\n",
    "        elif n>2:\n",
    "            for i in range(n-1):\n",
    "                qc.cx(i, i+1)\n",
    "            qc.cx(0, n-1)\n",
    "    return qc\n"
   ]
  },
  {
   "cell_type": "code",
   "execution_count": 27,
   "id": "medical-colleague",
   "metadata": {},
   "outputs": [],
   "source": [
    "# run circuit\n",
    "def execute_circuit(n, params, angles, x=None, bias=0.0, shots=1000, use_angles=True):\n",
    "    if not use_angles:\n",
    "        angles = get_angles(x, n)\n",
    "        angles = np.nan_to_num(angles)\n",
    "    \n",
    "    # create circuit\n",
    "    q = QuantumRegister(n)\n",
    "    c = ClassicalRegister(1)\n",
    "    qc = QuantumCircuit(q, c)\n",
    "    \n",
    "    # Mottonen method\n",
    "    qc = amp_enc_qc(angles, qc, n)\n",
    "    \n",
    "    # divide and conquer\n",
    "    #qc = _generate_circuit(angles.tolist(), qc, q)\n",
    "\n",
    "    # parameterized circuit\n",
    "    qc = var_classifier(qc, params, n)\n",
    "        \n",
    "    qc.measure(0, c)\n",
    "        \n",
    "    result = execute(qc, backend, shots=shots).result()\n",
    "    counts = result.get_counts(qc)\n",
    "    result = np.zeros(2)\n",
    "    for key in counts:\n",
    "        result[int(key, 2)] = counts[key]\n",
    "    result /= shots\n",
    "    \n",
    "    return result[1] + bias"
   ]
  },
  {
   "cell_type": "code",
   "execution_count": 28,
   "id": "configured-direction",
   "metadata": {},
   "outputs": [],
   "source": [
    "def ctrl_U(param, qc, q, a, ctrl, n):\n",
    "    order = True # keeps track of alternating cX gates\n",
    "    for i in range(param.shape[0]): # for each parameterized layer\n",
    "        for j in range(n):\n",
    "            # add parameterized gates\n",
    "            qc.cu3(param[i][j][0], param[i][j][1], param[i][j][2], a[0], q[j], ctrl_state=ctrl)\n",
    "        if n==2:\n",
    "            if order:\n",
    "                qc.ccx(a[0], q[0], q[1]) # add controlled-nots\n",
    "            else:\n",
    "                qc.ccx(a[0], q[1], q[0])\n",
    "            order = not order\n",
    "        elif n>2:\n",
    "            for k in range(n-1):\n",
    "                qc.ccx(a[0], q[k], q[k+1])\n",
    "            qc.ccx(a[0], q[0], q[n-1])\n",
    "    return qc\n",
    "    "
   ]
  },
  {
   "cell_type": "code",
   "execution_count": 29,
   "id": "legislative-impression",
   "metadata": {},
   "outputs": [],
   "source": [
    "def real_inner_prod(n, param1, param2, angles, shots=1000):\n",
    "    \"\"\"Returns Re{<circuit(param2)|sigma_z|circuit(param1)>}\"\"\"\n",
    "    a = QuantumRegister(1) # ancilla\n",
    "    q = QuantumRegister(n)\n",
    "    c = ClassicalRegister(1)\n",
    "    qc = QuantumCircuit(q, c)\n",
    "    \n",
    "    # Mottonen method\n",
    "    qc = amp_enc_qc(angles, qc, n)\n",
    "    \n",
    "    # divide and conquer\n",
    "    #qc = _generate_circuit(angles.tolist(), qc, q)\n",
    "    \n",
    "    # add ancilla register\n",
    "    qc.add_register(a)\n",
    "    qc.h(a[0])\n",
    "    \n",
    "    # (sigma_z)(U)|psi>\n",
    "    #qc = ctrl_U(param1, qc, q, a, 0) #\n",
    "    #qc.cz(a[0], q[0], ctrl_state=0) #\n",
    "    qc = ctrl_U(param1, qc, q, a, 1, n) #\n",
    "    qc.cz(a[0], q[0], ctrl_state=1) #\n",
    "    qc.x(a[0]) #\n",
    "    \n",
    "    # <psi|(dU)\n",
    "    qc = ctrl_U(param2, qc, q, a, 1, n)\n",
    "    \n",
    "    qc.x(a[0]) #\n",
    "    \n",
    "    qc.h(a[0])\n",
    "    qc.measure(a[0], c)\n",
    "        \n",
    "    result = execute(qc, backend, shots=shots).result()\n",
    "    counts = result.get_counts(qc)\n",
    "    result = np.zeros(2)\n",
    "    for key in counts:\n",
    "        result[int(key, 2)] = counts[key]\n",
    "    result /= shots\n",
    "    return (2*result[0]-1)"
   ]
  },
  {
   "cell_type": "code",
   "execution_count": 30,
   "id": "excellent-potter",
   "metadata": {},
   "outputs": [],
   "source": [
    "def imag_inner_prod(n, param1, param2, angles, shots=1000):\n",
    "    \"\"\"Returns Im{<circuit(param2)|sigma_z|circuit(param1)>}\"\"\"\n",
    "    a = QuantumRegister(1) # ancilla\n",
    "    q = QuantumRegister(n)\n",
    "    c = ClassicalRegister(1)\n",
    "    qc = QuantumCircuit(q, c)\n",
    "            \n",
    "    # Mottonen method\n",
    "    qc = amp_enc_qc(angles, qc, n)\n",
    "    \n",
    "    # divide and conquer\n",
    "    #qc = _generate_circuit(angles.tolist(), qc, q)\n",
    "    \n",
    "    # add ancilla register\n",
    "    qc.add_register(a)\n",
    "    qc.h(a[0])\n",
    "        \n",
    "    # (sigma_z)(U)|psi> #\n",
    "    #qc = ctrl_U(param1, qc, q, a, 0) #\n",
    "    #qc.cz(a[0], q[0], ctrl_state=0) #\n",
    "    qc = ctrl_U(param1, qc, q, a, 1, n) #\n",
    "    qc.cz(a[0], q[0], ctrl_state=1) #\n",
    "    qc.x(a[0]) #\n",
    "    \n",
    "    # <psi|(dU)\n",
    "    qc = ctrl_U(param2, qc, q, a, 1, n)\n",
    "    \n",
    "    qc.x(a[0]) #\n",
    "    \n",
    "    # u1 rotation adds a coefficient of \"i\" to the second ket (i.e. ancilla qubit=1)\n",
    "    qc.u1(np.pi/2, a[0])\n",
    "    qc.h(a[0])\n",
    "    qc.measure(a[0], c)\n",
    "        \n",
    "    result = execute(qc, backend, shots=shots).result()\n",
    "    counts = result.get_counts(qc)\n",
    "    result = np.zeros(2)\n",
    "    for key in counts:\n",
    "        result[int(key, 2)] = counts[key]\n",
    "    result /= shots\n",
    "    return -(2*result[0]-1)"
   ]
  },
  {
   "cell_type": "code",
   "execution_count": 31,
   "id": "indoor-interpretation",
   "metadata": {},
   "outputs": [],
   "source": [
    "def gradients(n, params, angles, label, bias=0):\n",
    "    grads = np.zeros_like(params)\n",
    "    imag = imag_inner_prod(n, params, params, angles) # needed to calc the imag component of inner product below\n",
    "    for i in range(params.shape[0]):\n",
    "        for j in range(params.shape[1]):            \n",
    "            params_bra = np.copy(params)\n",
    "                        \n",
    "            # theta\n",
    "            params_bra[i,j,0] += np.pi\n",
    "            grads[i,j,0] = -0.5*real_inner_prod(n, params, params_bra, angles)\n",
    "            params_bra[i,j,0] -= np.pi # reset for next param below\n",
    "            \n",
    "            # phi\n",
    "            params_bra[i,j,1] += np.pi\n",
    "            grads[i,j,1] = 0.5*(imag_inner_prod(n, params, params_bra, angles)-imag)\n",
    "            params_bra[i,j,1] -= np.pi\n",
    "            \n",
    "            # lambda\n",
    "            params_bra[i,j,2] += np.pi\n",
    "            grads[i,j,2] = 0.5*(imag_inner_prod(n, params, params_bra, angles)-imag)\n",
    "            params_bra[i,j,2] -= np.pi\n",
    "            \n",
    "    p = execute_circuit(n, params, angles, bias=bias) \n",
    "    grad_bias = (p-label) / (p*(1-p))\n",
    "    grads *= grad_bias\n",
    "    return grads, grad_bias"
   ]
  },
  {
   "cell_type": "code",
   "execution_count": 32,
   "id": "reflected-league",
   "metadata": {},
   "outputs": [],
   "source": [
    "def train_model(n, layers, params_init, bias_init, batch_size, learning_rate, momentum, iterations, feats_train, Y_train, feats_val, Y_val, features, Y):\n",
    "    var = np.copy(params_init)\n",
    "    bias = bias_init\n",
    "    v = np.zeros_like(var)\n",
    "    v_bias = 0\n",
    "    \n",
    "    num_train = len(feats_train)\n",
    "    \n",
    "    for it in range(iterations):\n",
    "        # Update the weights by one optimizer step\n",
    "        batch_index = np.random.randint(0, num_train, (batch_size,))\n",
    "        feats_train_batch = feats_train[batch_index]\n",
    "        Y_train_batch = Y_train[batch_index]\n",
    "        grads = np.zeros_like(var)\n",
    "        grad_bias = 0\n",
    "        var_corrected = var + momentum*v\n",
    "        bias_corrected = bias + momentum*v_bias\n",
    "        for j in range(batch_size):\n",
    "            g, g_bias = gradients(n, var_corrected, feats_train_batch[j], Y_train_batch[j], bias)\n",
    "            grads += g/batch_size\n",
    "            grad_bias += g_bias/batch_size\n",
    "\n",
    "        v = momentum*v - learning_rate*grads\n",
    "        v_bias = momentum*v_bias - learning_rate*grad_bias\n",
    "\n",
    "        var += v\n",
    "        bias += v_bias\n",
    "\n",
    "        # Compute predictions on train and validation set\n",
    "        prob_train = np.array([execute_circuit(n, var, angles=f, bias=bias) for f in feats_train])\n",
    "        prob_val = np.array([execute_circuit(n, var, angles=f, bias=bias) for f in feats_val])\n",
    "        pred_train = predict(prob_train)\n",
    "        pred_val = predict(prob_val)\n",
    "\n",
    "        # Compute accuracy on train and validation set\n",
    "        acc_train = accuracy(Y_train, pred_train)\n",
    "        acc_val = accuracy(Y_val, pred_val)\n",
    "\n",
    "        print(\"Iter: {:5d} | Loss: {:0.7f} | Acc train: {:0.7f} | Acc validation: {:0.7f} \"\n",
    "              \"\".format(it + 1, cost(n, var, features, Y), acc_train, acc_val))\n",
    "    \n",
    "    return var, bias"
   ]
  },
  {
   "cell_type": "markdown",
   "id": "catholic-puppy",
   "metadata": {},
   "source": [
    "### Performance metrics"
   ]
  },
  {
   "cell_type": "code",
   "execution_count": 33,
   "id": "incident-gibson",
   "metadata": {},
   "outputs": [],
   "source": [
    "def predict(prob):\n",
    "    return (prob >= 0.5)*1\n",
    "\n",
    "def binary_crossentropy(labels, pred):\n",
    "    loss = 0\n",
    "    for l, p in zip(labels, pred):\n",
    "        loss = loss - l*np.log(np.max([p, 1e-8]))\n",
    "    loss = loss/len(labels)\n",
    "    return loss\n",
    "\n",
    "def square_loss(labels, pred):\n",
    "    loss = 0\n",
    "    for l, p in zip(labels, pred):\n",
    "        loss = loss + (l-p)**2\n",
    "    loss = loss/len(labels)\n",
    "    return loss \n",
    "\n",
    "def cost(n, params, features, labels):\n",
    "    pred = [execute_circuit(n, params, angles=f) for f in features]\n",
    "    return binary_crossentropy(labels, pred)\n",
    "\n",
    "def accuracy(labels, pred):\n",
    "    loss = 0\n",
    "    for l, p in zip(labels, pred):\n",
    "        if abs(l-p) < 1e-5:\n",
    "            loss = loss+1\n",
    "    loss = loss/len(labels)\n",
    "    return loss"
   ]
  },
  {
   "cell_type": "markdown",
   "id": "suspected-ambassador",
   "metadata": {},
   "source": [
    "# Training the model"
   ]
  },
  {
   "cell_type": "code",
   "execution_count": 34,
   "id": "severe-advancement",
   "metadata": {},
   "outputs": [],
   "source": [
    "def nextPowerOf2(n):\n",
    "    p = 1\n",
    "    if (n and not(n & (n - 1))):\n",
    "        return n\n",
    "    while (p < n) :\n",
    "        p <<= 1     \n",
    "    return p;"
   ]
  },
  {
   "cell_type": "code",
   "execution_count": 35,
   "id": "bridal-launch",
   "metadata": {},
   "outputs": [
    {
     "name": "stdout",
     "output_type": "stream",
     "text": [
      "First X sample (original)  : [  2.86294378   3.50882758 -10.03449355   7.50865631   6.1965465\n",
      "  -8.17709711  -7.94740348  -5.57149515]\n",
      "First X sample (normalized): [ 0.14744047  0.18070323 -0.51677243  0.38669282  0.31911968 -0.42111725\n",
      " -0.40928812 -0.28692979]\n"
     ]
    }
   ],
   "source": [
    "# padding_X = np.zeros((nextPowerOf2(len(X[0])),1))\n",
    "padding_X = 0.3*np.ones((len(X), nextPowerOf2(len(X[0]))-len(X[0])))\n",
    "\n",
    "X_pad = np.c_[np.c_[X, padding_X], np.zeros((len(X), 0))]\n",
    "X_pad\n",
    "print(\"First X sample (original)  :\", X_pad[0])\n",
    "\n",
    "# normalize each input\n",
    "normalization = np.sqrt(np.sum(X**2, -1))\n",
    "X_norm = (X_pad.T / normalization).T\n",
    "print(\"First X sample (normalized):\", X_norm[0])"
   ]
  },
  {
   "cell_type": "code",
   "execution_count": 36,
   "id": "macro-queensland",
   "metadata": {},
   "outputs": [],
   "source": [
    "# number of qubits\n",
    "n = 3\n",
    "num_qubits = n # needed for D&C\n",
    "\n",
    "# angles for state preparation are new features; impute nans\n",
    "features = np.array([get_angles(x, n) for x in X_norm])\n",
    "features = np.nan_to_num(features)\n",
    "\n",
    "# divide and conquer\n",
    "#features = np.array([recursive_compute_beta(x, betas=[]) for x in X_norm])"
   ]
  },
  {
   "cell_type": "code",
   "execution_count": 37,
   "id": "external-carroll",
   "metadata": {},
   "outputs": [],
   "source": [
    "# set random seed\n",
    "np.random.seed(0)\n",
    "\n",
    "# number of samples\n",
    "num_data = len(y) # 100\n",
    "\n",
    "# number of training samples\n",
    "num_train = int(0.75*num_data) # 75\n",
    "\n",
    "# randomly split into train, validation sets\n",
    "index = np.random.permutation(range(num_data))\n",
    "feats_train = features[index[:num_train]]\n",
    "Y_train = y[index[:num_train]]\n",
    "feats_val = features[index[num_train:]]\n",
    "Y_val = y[index[num_train:]]\n",
    "\n",
    "# We need these later for plotting\n",
    "X_train = X[index[:num_train]]\n",
    "X_val = X[index[num_train:]]"
   ]
  },
  {
   "cell_type": "code",
   "execution_count": 39,
   "id": "informal-examination",
   "metadata": {},
   "outputs": [
    {
     "name": "stdout",
     "output_type": "stream",
     "text": [
      "Iter:     1 | Loss: 0.0135731 | Acc train: 0.5357143 | Acc validation: 0.3947368 \n",
      "Iter:     2 | Loss: 0.0113085 | Acc train: 0.5357143 | Acc validation: 0.3947368 \n",
      "Iter:     3 | Loss: 0.0115113 | Acc train: 0.5535714 | Acc validation: 0.4210526 \n",
      "Iter:     4 | Loss: 0.0119649 | Acc train: 0.5982143 | Acc validation: 0.4473684 \n",
      "Iter:     5 | Loss: 0.0127974 | Acc train: 0.6964286 | Acc validation: 0.5789474 \n",
      "Iter:     6 | Loss: 0.0133114 | Acc train: 0.8750000 | Acc validation: 0.7894737 \n",
      "Iter:     7 | Loss: 0.0130363 | Acc train: 0.9732143 | Acc validation: 0.9473684 \n",
      "Iter:     8 | Loss: 0.0153965 | Acc train: 0.8482143 | Acc validation: 0.9210526 \n",
      "Iter:     9 | Loss: 0.0175895 | Acc train: 0.4642857 | Acc validation: 0.6052632 \n"
     ]
    }
   ],
   "source": [
    "# number of parameterized layers\n",
    "layers = 5 #1\n",
    "batch_size = 10\n",
    "iterations = 15\n",
    "\n",
    "# initial parameters\n",
    "params_init = np.random.randn(layers, n, 3)*0.01\n",
    "bias_init = 0.01\n",
    "learning_rate = 0.01\n",
    "momentum = 0.9\n",
    "\n",
    "# set backend to run \n",
    "backend = BasicAer.get_backend('qasm_simulator')\n",
    "\n",
    "# train model\n",
    "var, bias = train_model(n, layers, params_init, bias_init, batch_size, learning_rate, momentum, iterations, feats_train, Y_train, feats_val, Y_val, features, y)"
   ]
  },
  {
   "cell_type": "code",
   "execution_count": null,
   "id": "sublime-nightlife",
   "metadata": {},
   "outputs": [],
   "source": []
  }
 ],
 "metadata": {
  "kernelspec": {
   "display_name": "Python 3",
   "language": "python",
   "name": "python3"
  },
  "language_info": {
   "codemirror_mode": {
    "name": "ipython",
    "version": 3
   },
   "file_extension": ".py",
   "mimetype": "text/x-python",
   "name": "python",
   "nbconvert_exporter": "python",
   "pygments_lexer": "ipython3",
   "version": "3.7.10"
  }
 },
 "nbformat": 4,
 "nbformat_minor": 5
}
