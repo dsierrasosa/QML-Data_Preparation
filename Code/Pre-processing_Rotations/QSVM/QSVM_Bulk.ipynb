{
 "cells": [
  {
   "cell_type": "code",
   "execution_count": 1,
   "metadata": {},
   "outputs": [],
   "source": [
    "from qiskit import IBMQ\n",
    "import sklearn.datasets as skd\n",
    "import pandas as pd\n",
    "import matplotlib.pyplot as plt\n",
    "import numpy as np\n",
    "from sklearn.model_selection import train_test_split\n",
    "from qiskit.aqua.components.optimizers import SPSA\n",
    "from qiskit.circuit.library import ZZFeatureMap, TwoLocal\n",
    "from qiskit_machine_learning.algorithms import QSVC\n",
    "from qiskit_machine_learning.kernels import QuantumKernel\n",
    "from qiskit.providers.ibmq import least_busy\n",
    "from qiskit import BasicAer\n",
    "from qiskit.aqua import QuantumInstance\n",
    "from sklearn.metrics import classification_report\n",
    "from sklearn.preprocessing import normalize\n",
    "from qiskit import QuantumCircuit, QuantumRegister, ClassicalRegister, execute\n",
    "# from imblearn.under_sampling import RandomUnderSampler\n",
    "import math"
   ]
  },
  {
   "cell_type": "code",
   "execution_count": 2,
   "metadata": {},
   "outputs": [
    {
     "data": {
      "text/html": [
       "<div>\n",
       "<style scoped>\n",
       "    .dataframe tbody tr th:only-of-type {\n",
       "        vertical-align: middle;\n",
       "    }\n",
       "\n",
       "    .dataframe tbody tr th {\n",
       "        vertical-align: top;\n",
       "    }\n",
       "\n",
       "    .dataframe thead th {\n",
       "        text-align: right;\n",
       "    }\n",
       "</style>\n",
       "<table border=\"1\" class=\"dataframe\">\n",
       "  <thead>\n",
       "    <tr style=\"text-align: right;\">\n",
       "      <th></th>\n",
       "      <th>mean_radius</th>\n",
       "      <th>mean_texture</th>\n",
       "      <th>mean_perimeter</th>\n",
       "      <th>mean_area</th>\n",
       "      <th>mean_smoothness</th>\n",
       "      <th>diagnosis</th>\n",
       "    </tr>\n",
       "  </thead>\n",
       "  <tbody>\n",
       "    <tr>\n",
       "      <th>0</th>\n",
       "      <td>17.99</td>\n",
       "      <td>10.38</td>\n",
       "      <td>122.80</td>\n",
       "      <td>1001.0</td>\n",
       "      <td>0.11840</td>\n",
       "      <td>0</td>\n",
       "    </tr>\n",
       "    <tr>\n",
       "      <th>1</th>\n",
       "      <td>20.57</td>\n",
       "      <td>17.77</td>\n",
       "      <td>132.90</td>\n",
       "      <td>1326.0</td>\n",
       "      <td>0.08474</td>\n",
       "      <td>0</td>\n",
       "    </tr>\n",
       "    <tr>\n",
       "      <th>2</th>\n",
       "      <td>19.69</td>\n",
       "      <td>21.25</td>\n",
       "      <td>130.00</td>\n",
       "      <td>1203.0</td>\n",
       "      <td>0.10960</td>\n",
       "      <td>0</td>\n",
       "    </tr>\n",
       "    <tr>\n",
       "      <th>3</th>\n",
       "      <td>11.42</td>\n",
       "      <td>20.38</td>\n",
       "      <td>77.58</td>\n",
       "      <td>386.1</td>\n",
       "      <td>0.14250</td>\n",
       "      <td>0</td>\n",
       "    </tr>\n",
       "    <tr>\n",
       "      <th>4</th>\n",
       "      <td>20.29</td>\n",
       "      <td>14.34</td>\n",
       "      <td>135.10</td>\n",
       "      <td>1297.0</td>\n",
       "      <td>0.10030</td>\n",
       "      <td>0</td>\n",
       "    </tr>\n",
       "  </tbody>\n",
       "</table>\n",
       "</div>"
      ],
      "text/plain": [
       "   mean_radius  mean_texture  mean_perimeter  mean_area  mean_smoothness  \\\n",
       "0        17.99         10.38          122.80     1001.0          0.11840   \n",
       "1        20.57         17.77          132.90     1326.0          0.08474   \n",
       "2        19.69         21.25          130.00     1203.0          0.10960   \n",
       "3        11.42         20.38           77.58      386.1          0.14250   \n",
       "4        20.29         14.34          135.10     1297.0          0.10030   \n",
       "\n",
       "   diagnosis  \n",
       "0          0  \n",
       "1          0  \n",
       "2          0  \n",
       "3          0  \n",
       "4          0  "
      ]
     },
     "execution_count": 2,
     "metadata": {},
     "output_type": "execute_result"
    }
   ],
   "source": [
    "ds = pd.read_csv('Breast_cancer_data.csv')\n",
    "ds.head()"
   ]
  },
  {
   "cell_type": "code",
   "execution_count": 3,
   "metadata": {},
   "outputs": [],
   "source": [
    "#defining dependent and independent variables\n",
    "X = ds.drop('diagnosis', axis=1)\n",
    "y = ds['diagnosis']"
   ]
  },
  {
   "cell_type": "code",
   "execution_count": 4,
   "metadata": {},
   "outputs": [
    {
     "data": {
      "text/plain": [
       "(569, 5)"
      ]
     },
     "execution_count": 4,
     "metadata": {},
     "output_type": "execute_result"
    }
   ],
   "source": [
    "X.shape"
   ]
  },
  {
   "cell_type": "code",
   "execution_count": 5,
   "metadata": {},
   "outputs": [],
   "source": [
    "# X = X.values\n",
    "from sklearn.preprocessing import StandardScaler\n",
    "sc = StandardScaler()\n",
    "X = sc.fit_transform(X)"
   ]
  },
  {
   "cell_type": "code",
   "execution_count": 6,
   "metadata": {},
   "outputs": [],
   "source": [
    "# Rotator\n",
    "from typing import Callable, List, Optional, Tuple, Union\n",
    "from math import atan2\n",
    "def rotate_matrix_nd(bs,degrees):\n",
    "    ang = np.deg2rad(degrees)\n",
    "    dim = np.shape(bs)[0]\n",
    "    Rot_mat = np.eye(dim)\n",
    "    for k in range(0,dim-2):\n",
    "        for l in range(dim-1,k,-1):\n",
    "            a = atan2(bs[l,k],bs[l-1,k])\n",
    "            R = np.eye(dim)\n",
    "            R_temp = np.array([[np.cos(a),np.sin(a)],[-1*np.sin(a),np.cos(a)]])\n",
    "            tmp = l - 1\n",
    "            R[tmp:tmp+R_temp.shape[0],tmp:tmp+R_temp.shape[0]] = R_temp\n",
    "            bs=np.matmul(R,bs)\n",
    "            Rot_mat = np.matmul(R,Rot_mat)\n",
    "    R = np.eye(dim)\n",
    "    R[dim-2:dim,dim-2:dim] = np.array([[np.cos(ang),-1*np.sin(ang)],[np.sin(ang),np.cos(ang)]])\n",
    "    Rot_mat = np.matmul(np.linalg.inv(Rot_mat),np.matmul(R,Rot_mat))\n",
    "    return Rot_mat"
   ]
  },
  {
   "cell_type": "code",
   "execution_count": 7,
   "metadata": {},
   "outputs": [],
   "source": [
    "dim = 5\n",
    "v = np.logical_or(np.eye(dim),np.fliplr(np.eye(dim))).astype(int)\n",
    "v = v[:,:-2]\n",
    "# v = np.eye(dim)[:,:-2]\n",
    "# v[-2][0] = 1\n",
    "# v[-1][1] = 1\n",
    "\n",
    "\n",
    "# print(rot)"
   ]
  },
  {
   "cell_type": "code",
   "execution_count": 17,
   "metadata": {},
   "outputs": [
    {
     "name": "stdout",
     "output_type": "stream",
     "text": [
      "Voy en 91.005\n"
     ]
    }
   ],
   "source": [
    "random_seed = 42\n",
    "feature_dim = 5\n",
    "feature_map = ZZFeatureMap(feature_dimension=feature_dim, reps=3)\n",
    "backend =  BasicAer.get_backend('qasm_simulator')#'statevector_simulator''qasm_simulator'\n",
    "quantum_instance = QuantumInstance(backend, seed_simulator=random_seed, seed_transpiler=random_seed)\n",
    "\n",
    "kernel = QuantumKernel(feature_map=feature_map, quantum_instance=quantum_instance)\n",
    "qsvc = QSVC(quantum_kernel=kernel)\n",
    "\n",
    "\n",
    "\n",
    "for angul in [91.005]:#range(-16,-8,1):\n",
    "    file = open(\"result_\"+str(angul)+\".txt\", \"w\")\n",
    "    print(\"Voy en \"+str(angul))\n",
    "    rot = rotate_matrix_nd(v,-angul)\n",
    "    XX = np.empty((0,dim))\n",
    "    for point in X:\n",
    "        tmp_point = np.matmul(rot,np.atleast_2d(point).T)\n",
    "        tmp_point = np.atleast_2d(tmp_point).T\n",
    "        XX = np.append(XX, tmp_point,axis=0)\n",
    "    sample_train, sample_test, label_train, label_test = train_test_split(XX, y, test_size=0.4,  shuffle=True, random_state=42)\n",
    "    \n",
    "    \n",
    "    qsvc.fit(sample_train, label_train)\n",
    "    \n",
    "    print('\\n---------------------------- Angle:'+str(angul)+'----------------------------\\n', file=file)\n",
    "    print('\\n----------------------------'+'TEST'+'----------------------------\\n', file=file)\n",
    "    print(classification_report(label_test , qsvc.predict(sample_test)), file=file)\n",
    "    print('\\n----------------------------'+'TRAIN'+'----------------------------\\n', file=file)\n",
    "    print(classification_report(label_train , qsvc.predict(sample_train)), file=file)\n",
    "    file.close()\n"
   ]
  },
  {
   "cell_type": "code",
   "execution_count": 11,
   "metadata": {},
   "outputs": [
    {
     "data": {
      "text/plain": [
       "22.0"
      ]
     },
     "execution_count": 11,
     "metadata": {},
     "output_type": "execute_result"
    }
   ],
   "source": [
    "\n"
   ]
  },
  {
   "cell_type": "code",
   "execution_count": null,
   "metadata": {},
   "outputs": [],
   "source": []
  }
 ],
 "metadata": {
  "kernelspec": {
   "display_name": "Python 3",
   "language": "python",
   "name": "python3"
  },
  "language_info": {
   "codemirror_mode": {
    "name": "ipython",
    "version": 3
   },
   "file_extension": ".py",
   "mimetype": "text/x-python",
   "name": "python",
   "nbconvert_exporter": "python",
   "pygments_lexer": "ipython3",
   "version": "3.7.9"
  }
 },
 "nbformat": 4,
 "nbformat_minor": 4
}
