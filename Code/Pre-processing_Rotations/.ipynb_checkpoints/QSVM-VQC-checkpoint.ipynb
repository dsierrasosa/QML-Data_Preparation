{
 "cells": [
  {
   "cell_type": "code",
   "execution_count": 91,
   "id": "imperial-white",
   "metadata": {},
   "outputs": [],
   "source": [
    "from qiskit import IBMQ\n",
    "import sklearn.datasets as skd\n",
    "import pandas as pd\n",
    "import matplotlib.pyplot as plt\n",
    "import numpy as np\n",
    "from sklearn.model_selection import train_test_split\n",
    "from qiskit.aqua.components.optimizers import SPSA\n",
    "from qiskit.circuit.library import ZZFeatureMap, TwoLocal\n",
    "from qiskit.aqua.algorithms import QSVM, VQC\n",
    "from qiskit.providers.ibmq import least_busy\n",
    "from qiskit import BasicAer\n",
    "from qiskit.aqua import QuantumInstance\n",
    "from sklearn.metrics import classification_report\n",
    "from sklearn.preprocessing import normalize\n",
    "from qiskit import QuantumCircuit, QuantumRegister, ClassicalRegister, execute\n",
    "from sklearn.datasets import make_blobs\n",
    "import math"
   ]
  },
  {
   "cell_type": "code",
   "execution_count": 92,
   "id": "dangerous-penguin",
   "metadata": {},
   "outputs": [],
   "source": [
    "# IBMQ.load_account()"
   ]
  },
  {
   "cell_type": "code",
   "execution_count": 93,
   "id": "governing-retirement",
   "metadata": {},
   "outputs": [],
   "source": [
    "# provider = IBMQ.get_provider(hub='ibm-q-research')\n",
    "# provider.backends()"
   ]
  },
  {
   "cell_type": "code",
   "execution_count": 94,
   "id": "annual-skating",
   "metadata": {},
   "outputs": [],
   "source": [
    "X,y = make_blobs(n_samples=150, centers=2, n_features=8, random_state=42)"
   ]
  },
  {
   "cell_type": "code",
   "execution_count": 95,
   "id": "direct-adrian",
   "metadata": {},
   "outputs": [
    {
     "data": {
      "image/png": "[encoded data removed]",
      "text/plain": [
       "<Figure size 432x288 with 1 Axes>"
      ]
     },
     "metadata": {
      "needs_background": "light"
     },
     "output_type": "display_data"
    }
   ],
   "source": [
    "# Data Scatter plot\n",
    "plt.figure()\n",
    "plt.scatter(X[:, 0][y==0], X[:, 1][y==0], c='r', marker='^', edgecolors='k', label=\"train 0\")\n",
    "plt.scatter(X[:, 0][y==1], X[:, 1][y==1], c='b', marker='^', edgecolors='k', label=\"train 1\")\n",
    "plt.legend()\n",
    "plt.show()"
   ]
  },
  {
   "cell_type": "code",
   "execution_count": 96,
   "id": "anonymous-screening",
   "metadata": {},
   "outputs": [],
   "source": [
    "import numpy as np\n",
    "from typing import Callable, List, Optional, Tuple, Union\n",
    "from math import atan2\n",
    "def rotate_matrix_nd(bs,degrees):\n",
    "    ang = np.deg2rad(degrees)\n",
    "    dim = np.shape(bs)[0]\n",
    "    Rot_mat = np.eye(dim)\n",
    "    for k in range(0,dim-2):\n",
    "        for l in range(dim-1,k,-1):\n",
    "            a = atan2(bs[l,k],bs[l-1,k])\n",
    "            R = np.eye(dim)\n",
    "            R_temp = np.array([[np.cos(a),np.sin(a)],[-1*np.sin(a),np.cos(a)]])\n",
    "            tmp = l - 1\n",
    "            R[tmp:tmp+R_temp.shape[0],tmp:tmp+R_temp.shape[0]] = R_temp\n",
    "            bs=np.matmul(R,bs)\n",
    "            Rot_mat = np.matmul(R,Rot_mat)\n",
    "    R = np.eye(dim)\n",
    "    R[dim-2:dim,dim-2:dim] = np.array([[np.cos(ang),-1*np.sin(ang)],[np.sin(ang),np.cos(ang)]])\n",
    "    Rot_mat = np.matmul(np.linalg.inv(Rot_mat),np.matmul(R,Rot_mat))\n",
    "    return Rot_mat\n",
    "#     Rot_mat = np.linalg.lstsq(Rot_mat,np.matmul(R,Rot_mat))\n",
    "    \n",
    "    \n",
    "#     R = np.array([[np.cos(angle), -np.sin(angle)], [np.sin(angle), np.cos(angle)]])\n",
    "#     o = np.atleast_2d(origin)\n",
    "#     p = np.atleast_2d(points)\n",
    "#     return np.squeeze((R @ (p.T - o.T) + o.T).T)"
   ]
  },
  {
   "cell_type": "code",
   "execution_count": 142,
   "id": "threaded-indiana",
   "metadata": {},
   "outputs": [
    {
     "name": "stdout",
     "output_type": "stream",
     "text": [
      "[[ 1.00000000e+00 -1.44340280e-17  2.14729763e-17 -1.83089782e-17\n",
      "   1.83089782e-17 -2.14729763e-17  1.44340280e-17  1.01465364e-17]\n",
      " [ 5.85322836e-18  9.74324425e-01  1.54776089e-01 -3.25684241e-02\n",
      "   3.25684241e-02 -1.54776089e-01  2.56755752e-02 -5.85322836e-18]\n",
      " [-3.02533279e-17 -1.54776089e-01  9.33012702e-01 -1.96327182e-01\n",
      "   1.96327182e-01  6.69872981e-02  1.54776089e-01  3.02533279e-17]\n",
      " [ 7.42458240e-18 -3.25684241e-02  1.96327182e-01  9.58688277e-01\n",
      "   4.13117229e-02 -1.96327182e-01  3.25684241e-02 -7.42458240e-18]\n",
      " [-7.42458240e-18  3.25684241e-02 -1.96327182e-01  4.13117229e-02\n",
      "   9.58688277e-01  1.96327182e-01 -3.25684241e-02  7.42458240e-18]\n",
      " [ 3.02533279e-17  1.54776089e-01  6.69872981e-02  1.96327182e-01\n",
      "  -1.96327182e-01  9.33012702e-01 -1.54776089e-01 -3.02533279e-17]\n",
      " [-5.85322836e-18  2.56755752e-02 -1.54776089e-01  3.25684241e-02\n",
      "  -3.25684241e-02  1.54776089e-01  9.74324425e-01  5.85322836e-18]\n",
      " [ 0.00000000e+00  1.44340280e-17 -2.14729763e-17  1.83089782e-17\n",
      "  -1.83089782e-17  2.14729763e-17 -1.44340280e-17  1.00000000e+00]]\n"
     ]
    }
   ],
   "source": [
    "dim = 8\n",
    "v = np.logical_or(np.eye(dim),np.fliplr(np.eye(dim))).astype(int)\n",
    "\n",
    "rot = rotate_matrix_nd(v[:,:-2],30)\n",
    "\n",
    "print(rot)"
   ]
  },
  {
   "cell_type": "code",
   "execution_count": 143,
   "id": "suited-produce",
   "metadata": {},
   "outputs": [
    {
     "data": {
      "text/plain": [
       "array([[  2.86294378,   2.88446835, -11.94082504, ...,  -6.27076562,\n",
       "         -7.32304425,  -5.57149515],\n",
       "       [ -1.93264066,  10.89642238,   1.6338791 , ...,  -1.75076949,\n",
       "        -12.01566018,   7.52698655],\n",
       "       [  2.30226886,   2.38942057,  -8.92489972, ...,  -3.24510958,\n",
       "         -5.23594948,  -6.10802578],\n",
       "       ...,\n",
       "       [ -2.95926309,  10.4394261 ,  -1.52935008, ...,  -1.26406227,\n",
       "         -8.92900292,   6.19888082],\n",
       "       [ -2.13805175,   9.48792448,  -0.12961783, ...,  -1.7696023 ,\n",
       "         -9.57834864,   6.91164595],\n",
       "       [ -3.33819263,   9.614558  ,   0.23259617, ...,  -1.60820594,\n",
       "         -8.72111577,   6.73195153]])"
      ]
     },
     "execution_count": 143,
     "metadata": {},
     "output_type": "execute_result"
    }
   ],
   "source": [
    "XX = np.empty((0,dim))\n",
    "for point in X:\n",
    "    tmp_point = np.matmul(rot,np.atleast_2d(point).T)\n",
    "    tmp_point = np.atleast_2d(tmp_point).T\n",
    "    XX = np.append(XX, tmp_point,axis=0)\n",
    "XX    "
   ]
  },
  {
   "cell_type": "code",
   "execution_count": 144,
   "id": "incorporated-spine",
   "metadata": {},
   "outputs": [
    {
     "data": {
      "image/png": "[encoded data removed]",
      "text/plain": [
       "<Figure size 432x288 with 1 Axes>"
      ]
     },
     "metadata": {
      "needs_background": "light"
     },
     "output_type": "display_data"
    }
   ],
   "source": [
    "# Data Scatter plot\n",
    "plt.figure()\n",
    "plt.scatter(XX[:, 0][y==0], XX[:, 1][y==0], c='r', marker='^', edgecolors='k', label=\"train 0\")\n",
    "plt.scatter(XX[:, 0][y==1], XX[:, 1][y==1], c='b', marker='^', edgecolors='k', label=\"train 1\")\n",
    "plt.legend()\n",
    "plt.show()"
   ]
  },
  {
   "cell_type": "code",
   "execution_count": 145,
   "id": "desperate-hawaiian",
   "metadata": {},
   "outputs": [],
   "source": [
    "sample_train, sample_test, label_train, label_test = train_test_split(XX, y, test_size=0.2,  shuffle=True, random_state=42)"
   ]
  },
  {
   "cell_type": "code",
   "execution_count": 146,
   "id": "composite-school",
   "metadata": {},
   "outputs": [
    {
     "data": {
      "text/plain": [
       "array([  2.86294378,   3.50882758, -10.03449355,   7.50865631,\n",
       "         6.1965465 ,  -8.17709711,  -7.94740348,  -5.57149515])"
      ]
     },
     "execution_count": 146,
     "metadata": {},
     "output_type": "execute_result"
    }
   ],
   "source": [
    "X[0]"
   ]
  },
  {
   "cell_type": "code",
   "execution_count": 147,
   "id": "working-depth",
   "metadata": {},
   "outputs": [
    {
     "data": {
      "text/plain": [
       "array([  2.86294378,   2.88446835, -11.94082504,   6.716682  ,\n",
       "         6.98852081,  -6.27076562,  -7.32304425,  -5.57149515])"
      ]
     },
     "execution_count": 147,
     "metadata": {},
     "output_type": "execute_result"
    }
   ],
   "source": [
    "XX[0]"
   ]
  },
  {
   "cell_type": "markdown",
   "id": "pharmaceutical-mexico",
   "metadata": {},
   "source": [
    "# Quantum SVM - Qiskit"
   ]
  },
  {
   "cell_type": "code",
   "execution_count": 148,
   "id": "floppy-success",
   "metadata": {},
   "outputs": [],
   "source": [
    "class_labels = [r'A', r'B']#[r'A', r'B']\n",
    "training_dataset = {key : np.array(sample_train[label_train == k, :])[:] for k, key in enumerate(class_labels)}\n",
    "test_dataset = {key : np.array(sample_test[label_test == k, :])[:] for k, key in enumerate(class_labels)}"
   ]
  },
  {
   "cell_type": "code",
   "execution_count": 149,
   "id": "collect-fusion",
   "metadata": {},
   "outputs": [],
   "source": [
    "random_seed = 42\n",
    "feature_dim = 8"
   ]
  },
  {
   "cell_type": "code",
   "execution_count": 150,
   "id": "middle-capacity",
   "metadata": {},
   "outputs": [],
   "source": [
    "# Generate the feature map\n",
    "feature_map = ZZFeatureMap(feature_dimension=feature_dim, reps=15)"
   ]
  },
  {
   "cell_type": "code",
   "execution_count": 151,
   "id": "dying-portrait",
   "metadata": {},
   "outputs": [],
   "source": [
    "backend =  BasicAer.get_backend('statevector_simulator')#'statevector_simulator''qasm_simulator'\n",
    "quantum_instance = QuantumInstance(backend, seed_simulator=random_seed, seed_transpiler=random_seed)"
   ]
  },
  {
   "cell_type": "code",
   "execution_count": 152,
   "id": "sixth-anaheim",
   "metadata": {},
   "outputs": [],
   "source": [
    "qsvm = QSVM(feature_map = feature_map, training_dataset=training_dataset, test_dataset=test_dataset)"
   ]
  },
  {
   "cell_type": "code",
   "execution_count": 153,
   "id": "cultural-sustainability",
   "metadata": {},
   "outputs": [
    {
     "name": "stdout",
     "output_type": "stream",
     "text": [
      "              precision    recall  f1-score   support\n",
      "\n",
      "           0       0.39      0.64      0.49        14\n",
      "           1       0.29      0.12      0.17        16\n",
      "\n",
      "    accuracy                           0.37        30\n",
      "   macro avg       0.34      0.38      0.33        30\n",
      "weighted avg       0.33      0.37      0.32        30\n",
      "\n"
     ]
    }
   ],
   "source": [
    "result = qsvm.run(quantum_instance)\n",
    "# print(\"testing success ratio: \", result['testing_accuracy'])\n",
    "print(classification_report(label_test , qsvm.predict(sample_test , quantum_instance)))"
   ]
  },
  {
   "cell_type": "code",
   "execution_count": 154,
   "id": "speaking-empire",
   "metadata": {},
   "outputs": [
    {
     "name": "stdout",
     "output_type": "stream",
     "text": [
      "              precision    recall  f1-score   support\n",
      "\n",
      "           0       0.61      0.88      0.72        16\n",
      "           1       0.71      0.36      0.48        14\n",
      "\n",
      "    accuracy                           0.63        30\n",
      "   macro avg       0.66      0.62      0.60        30\n",
      "weighted avg       0.66      0.63      0.61        30\n",
      "\n"
     ]
    }
   ],
   "source": [
    "print(classification_report(np.abs(label_test-1) , qsvm.predict(sample_test , quantum_instance)))"
   ]
  },
  {
   "cell_type": "markdown",
   "id": "perfect-creation",
   "metadata": {},
   "source": [
    "# VQC - Qiskit"
   ]
  },
  {
   "cell_type": "code",
   "execution_count": 17,
   "id": "exceptional-youth",
   "metadata": {},
   "outputs": [],
   "source": [
    "optimizer = SPSA(maxiter=4, c0=4.0, skip_calibration=True)\n",
    "var_form = TwoLocal(feature_dim, ['ry'], 'cx', reps=15)"
   ]
  },
  {
   "cell_type": "code",
   "execution_count": 18,
   "id": "surprising-hunger",
   "metadata": {},
   "outputs": [],
   "source": [
    "vqc= VQC(optimizer = optimizer,feature_map = feature_map,var_form = var_form, training_dataset=training_dataset, test_dataset=test_dataset,)# Variational "
   ]
  },
  {
   "cell_type": "code",
   "execution_count": 19,
   "id": "theoretical-christian",
   "metadata": {},
   "outputs": [],
   "source": [
    "result = vqc.run(quantum_instance)\n",
    "# print(f'Testing success ratio: {result[\"testing_accuracy\"]}')"
   ]
  },
  {
   "cell_type": "code",
   "execution_count": 20,
   "id": "massive-auditor",
   "metadata": {},
   "outputs": [
    {
     "name": "stdout",
     "output_type": "stream",
     "text": [
      "              precision    recall  f1-score   support\n",
      "\n",
      "           0       0.47      0.57      0.52        14\n",
      "           1       0.54      0.44      0.48        16\n",
      "\n",
      "    accuracy                           0.50        30\n",
      "   macro avg       0.50      0.50      0.50        30\n",
      "weighted avg       0.51      0.50      0.50        30\n",
      "\n"
     ]
    }
   ],
   "source": [
    "print(classification_report(label_test , vqc.predict(sample_test , quantum_instance)[1]))"
   ]
  },
  {
   "cell_type": "markdown",
   "id": "exciting-enhancement",
   "metadata": {},
   "source": [
    "# Classic SVM"
   ]
  },
  {
   "cell_type": "code",
   "execution_count": 21,
   "id": "coated-right",
   "metadata": {},
   "outputs": [],
   "source": [
    "from sklearn import svm"
   ]
  },
  {
   "cell_type": "code",
   "execution_count": 22,
   "id": "composite-sussex",
   "metadata": {},
   "outputs": [
    {
     "data": {
      "text/plain": [
       "SVC()"
      ]
     },
     "execution_count": 22,
     "metadata": {},
     "output_type": "execute_result"
    }
   ],
   "source": [
    "clf = svm.SVC(gamma='scale')\n",
    "clf.fit(sample_train, label_train)"
   ]
  },
  {
   "cell_type": "code",
   "execution_count": 23,
   "id": "protecting-empty",
   "metadata": {},
   "outputs": [
    {
     "name": "stdout",
     "output_type": "stream",
     "text": [
      "              precision    recall  f1-score   support\n",
      "\n",
      "           0       1.00      1.00      1.00        14\n",
      "           1       1.00      1.00      1.00        16\n",
      "\n",
      "    accuracy                           1.00        30\n",
      "   macro avg       1.00      1.00      1.00        30\n",
      "weighted avg       1.00      1.00      1.00        30\n",
      "\n"
     ]
    }
   ],
   "source": [
    "print(classification_report(label_test, clf.predict(sample_test) , zero_division=0))"
   ]
  },
  {
   "cell_type": "markdown",
   "id": "durable-determination",
   "metadata": {},
   "source": [
    "# VQC - Amplitude Encoding Mottonen Method"
   ]
  },
  {
   "cell_type": "code",
   "execution_count": null,
   "id": "dress-theta",
   "metadata": {},
   "outputs": [],
   "source": []
  },
  {
   "cell_type": "markdown",
   "id": "roman-america",
   "metadata": {},
   "source": [
    "# Training the model"
   ]
  },
  {
   "cell_type": "code",
   "execution_count": 34,
   "id": "dried-malawi",
   "metadata": {},
   "outputs": [],
   "source": [
    "def nextPowerOf2(n):\n",
    "    p = 1\n",
    "    if (n and not(n & (n - 1))):\n",
    "        return n\n",
    "    while (p < n) :\n",
    "        p <<= 1     \n",
    "    return p;"
   ]
  },
  {
   "cell_type": "code",
   "execution_count": 35,
   "id": "monthly-plasma",
   "metadata": {},
   "outputs": [
    {
     "name": "stdout",
     "output_type": "stream",
     "text": [
      "First X sample (original)  : [  2.86294378   3.50882758 -10.03449355   7.50865631   6.1965465\n",
      "  -8.17709711  -7.94740348  -5.57149515]\n",
      "First X sample (normalized): [ 0.14744047  0.18070323 -0.51677243  0.38669282  0.31911968 -0.42111725\n",
      " -0.40928812 -0.28692979]\n"
     ]
    }
   ],
   "source": [
    "# padding_X = np.zeros((nextPowerOf2(len(X[0])),1))\n",
    "padding_X = 0.3*np.ones((len(X), nextPowerOf2(len(X[0]))-len(X[0])))\n",
    "\n",
    "X_pad = np.c_[np.c_[X, padding_X], np.zeros((len(X), 0))]\n",
    "X_pad\n",
    "print(\"First X sample (original)  :\", X_pad[0])\n",
    "\n",
    "# normalize each input\n",
    "normalization = np.sqrt(np.sum(X**2, -1))\n",
    "X_norm = (X_pad.T / normalization).T\n",
    "print(\"First X sample (normalized):\", X_norm[0])"
   ]
  },
  {
   "cell_type": "code",
   "execution_count": 36,
   "id": "federal-harrison",
   "metadata": {},
   "outputs": [],
   "source": [
    "# number of qubits\n",
    "n = 3\n",
    "num_qubits = n # needed for D&C\n",
    "\n",
    "# angles for state preparation are new features; impute nans\n",
    "features = np.array([get_angles(x, n) for x in X_norm])\n",
    "features = np.nan_to_num(features)\n",
    "\n",
    "# divide and conquer\n",
    "#features = np.array([recursive_compute_beta(x, betas=[]) for x in X_norm])"
   ]
  },
  {
   "cell_type": "code",
   "execution_count": 37,
   "id": "generic-battle",
   "metadata": {},
   "outputs": [],
   "source": [
    "# set random seed\n",
    "np.random.seed(0)\n",
    "\n",
    "# number of samples\n",
    "num_data = len(y) # 100\n",
    "\n",
    "# number of training samples\n",
    "num_train = int(0.75*num_data) # 75\n",
    "\n",
    "# randomly split into train, validation sets\n",
    "index = np.random.permutation(range(num_data))\n",
    "feats_train = features[index[:num_train]]\n",
    "Y_train = y[index[:num_train]]\n",
    "feats_val = features[index[num_train:]]\n",
    "Y_val = y[index[num_train:]]\n",
    "\n",
    "# We need these later for plotting\n",
    "X_train = X[index[:num_train]]\n",
    "X_val = X[index[num_train:]]"
   ]
  },
  {
   "cell_type": "code",
   "execution_count": 39,
   "id": "intense-baking",
   "metadata": {},
   "outputs": [
    {
     "name": "stdout",
     "output_type": "stream",
     "text": [
      "Iter:     1 | Loss: 0.0135731 | Acc train: 0.5357143 | Acc validation: 0.3947368 \n",
      "Iter:     2 | Loss: 0.0113085 | Acc train: 0.5357143 | Acc validation: 0.3947368 \n",
      "Iter:     3 | Loss: 0.0115113 | Acc train: 0.5535714 | Acc validation: 0.4210526 \n",
      "Iter:     4 | Loss: 0.0119649 | Acc train: 0.5982143 | Acc validation: 0.4473684 \n",
      "Iter:     5 | Loss: 0.0127974 | Acc train: 0.6964286 | Acc validation: 0.5789474 \n",
      "Iter:     6 | Loss: 0.0133114 | Acc train: 0.8750000 | Acc validation: 0.7894737 \n",
      "Iter:     7 | Loss: 0.0130363 | Acc train: 0.9732143 | Acc validation: 0.9473684 \n",
      "Iter:     8 | Loss: 0.0153965 | Acc train: 0.8482143 | Acc validation: 0.9210526 \n",
      "Iter:     9 | Loss: 0.0175895 | Acc train: 0.4642857 | Acc validation: 0.6052632 \n"
     ]
    }
   ],
   "source": [
    "# number of parameterized layers\n",
    "layers = 5 #1\n",
    "batch_size = 10\n",
    "iterations = 15\n",
    "\n",
    "# initial parameters\n",
    "params_init = np.random.randn(layers, n, 3)*0.01\n",
    "bias_init = 0.01\n",
    "learning_rate = 0.01\n",
    "momentum = 0.9\n",
    "\n",
    "# set backend to run \n",
    "backend = BasicAer.get_backend('qasm_simulator')\n",
    "\n",
    "# train model\n",
    "var, bias = train_model(n, layers, params_init, bias_init, batch_size, learning_rate, momentum, iterations, feats_train, Y_train, feats_val, Y_val, features, y)"
   ]
  },
  {
   "cell_type": "code",
   "execution_count": null,
   "id": "organized-central",
   "metadata": {},
   "outputs": [],
   "source": []
  }
 ],
 "metadata": {
  "kernelspec": {
   "display_name": "Python 3",
   "language": "python",
   "name": "python3"
  },
  "language_info": {
   "codemirror_mode": {
    "name": "ipython",
    "version": 3
   },
   "file_extension": ".py",
   "mimetype": "text/x-python",
   "name": "python",
   "nbconvert_exporter": "python",
   "pygments_lexer": "ipython3",
   "version": "3.7.10"
  }
 },
 "nbformat": 4,
 "nbformat_minor": 5
}
